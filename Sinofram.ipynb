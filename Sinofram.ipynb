{
 "cells": [
  {
   "cell_type": "markdown",
   "id": "3cde194d",
   "metadata": {},
   "source": [
    "Во трудот \"Side Effects and Perceptions Following Sinopharm COVID-19 Vaccination\" се прави онлајн истражување на случајни избраници и врз основа на нивните резултати се прават табели со податоци  за тоа какви и колку несакни ефекти пројавиле оние кои ја примале Синофарм вакцината поделени според воразст и според пол."
   ]
  }
 ],
 "metadata": {
  "kernelspec": {
   "display_name": "Python 3",
   "language": "python",
   "name": "python3"
  },
  "language_info": {
   "codemirror_mode": {
    "name": "ipython",
    "version": 3
   },
   "file_extension": ".py",
   "mimetype": "text/x-python",
   "name": "python",
   "nbconvert_exporter": "python",
   "pygments_lexer": "ipython3",
   "version": "3.7.10"
  }
 },
 "nbformat": 4,
 "nbformat_minor": 5
}
